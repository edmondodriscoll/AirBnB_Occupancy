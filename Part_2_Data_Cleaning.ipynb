{
 "cells": [
  {
   "cell_type": "code",
   "execution_count": 1,
   "metadata": {},
   "outputs": [],
   "source": [
    "import pandas as pd\n",
    "import requests\n",
    "from bs4 import BeautifulSoup\n",
    "from datetime import datetime, date, time\n",
    "\n",
    "import warnings\n",
    "warnings.filterwarnings(\"ignore\")"
   ]
  },
  {
   "cell_type": "code",
   "execution_count": 2,
   "metadata": {},
   "outputs": [],
   "source": [
    "from datetime import datetime, date, time\n",
    "now = datetime.now()"
   ]
  },
  {
   "cell_type": "markdown",
   "metadata": {},
   "source": [
    "# Step 1 loading the original dataset and the scraped "
   ]
  },
  {
   "cell_type": "code",
   "execution_count": 3,
   "metadata": {},
   "outputs": [],
   "source": [
    "#Pb1 This data wrangling cleaning \n",
    "Project_A=pd.read_csv('listings_air.csv')\n",
    "project_b=pd.read_csv('project_b.csv')"
   ]
  },
  {
   "cell_type": "code",
   "execution_count": 6,
   "metadata": {},
   "outputs": [
    {
     "data": {
      "text/html": [
       "<div>\n",
       "<style scoped>\n",
       "    .dataframe tbody tr th:only-of-type {\n",
       "        vertical-align: middle;\n",
       "    }\n",
       "\n",
       "    .dataframe tbody tr th {\n",
       "        vertical-align: top;\n",
       "    }\n",
       "\n",
       "    .dataframe thead th {\n",
       "        text-align: right;\n",
       "    }\n",
       "</style>\n",
       "<table border=\"1\" class=\"dataframe\">\n",
       "  <thead>\n",
       "    <tr style=\"text-align: right;\">\n",
       "      <th></th>\n",
       "      <th>Unnamed: 0</th>\n",
       "      <th>available</th>\n",
       "      <th>available_for_checkin</th>\n",
       "      <th>date</th>\n",
       "      <th>max_nights</th>\n",
       "      <th>min_nights</th>\n",
       "      <th>price</th>\n",
       "      <th>ID</th>\n",
       "      <th>local_adjusted_price</th>\n",
       "      <th>type</th>\n",
       "      <th>date_scraped</th>\n",
       "    </tr>\n",
       "  </thead>\n",
       "  <tbody>\n",
       "    <tr>\n",
       "      <th>0</th>\n",
       "      <td>0</td>\n",
       "      <td>False</td>\n",
       "      <td>False</td>\n",
       "      <td>2018-10-01</td>\n",
       "      <td>1125</td>\n",
       "      <td>3</td>\n",
       "      <td>{'date': '2018-10-01', 'local_adjusted_price':...</td>\n",
       "      <td>63864</td>\n",
       "      <td>128</td>\n",
       "      <td>custom</td>\n",
       "      <td>2018-12-10</td>\n",
       "    </tr>\n",
       "    <tr>\n",
       "      <th>1</th>\n",
       "      <td>1</td>\n",
       "      <td>False</td>\n",
       "      <td>False</td>\n",
       "      <td>2018-10-02</td>\n",
       "      <td>1125</td>\n",
       "      <td>3</td>\n",
       "      <td>{'date': '2018-10-02', 'local_adjusted_price':...</td>\n",
       "      <td>63864</td>\n",
       "      <td>128</td>\n",
       "      <td>custom</td>\n",
       "      <td>2018-12-10</td>\n",
       "    </tr>\n",
       "    <tr>\n",
       "      <th>2</th>\n",
       "      <td>2</td>\n",
       "      <td>False</td>\n",
       "      <td>False</td>\n",
       "      <td>2018-10-03</td>\n",
       "      <td>1125</td>\n",
       "      <td>3</td>\n",
       "      <td>{'date': '2018-10-03', 'local_adjusted_price':...</td>\n",
       "      <td>63864</td>\n",
       "      <td>128</td>\n",
       "      <td>custom</td>\n",
       "      <td>2018-12-10</td>\n",
       "    </tr>\n",
       "  </tbody>\n",
       "</table>\n",
       "</div>"
      ],
      "text/plain": [
       "   Unnamed: 0  available  available_for_checkin        date  max_nights  \\\n",
       "0           0      False                  False  2018-10-01        1125   \n",
       "1           1      False                  False  2018-10-02        1125   \n",
       "2           2      False                  False  2018-10-03        1125   \n",
       "\n",
       "   min_nights                                              price     ID  \\\n",
       "0           3  {'date': '2018-10-01', 'local_adjusted_price':...  63864   \n",
       "1           3  {'date': '2018-10-02', 'local_adjusted_price':...  63864   \n",
       "2           3  {'date': '2018-10-03', 'local_adjusted_price':...  63864   \n",
       "\n",
       "   local_adjusted_price    type date_scraped  \n",
       "0                   128  custom   2018-12-10  \n",
       "1                   128  custom   2018-12-10  \n",
       "2                   128  custom   2018-12-10  "
      ]
     },
     "execution_count": 6,
     "metadata": {},
     "output_type": "execute_result"
    }
   ],
   "source": [
    "project_b.head(3)"
   ]
  },
  {
   "cell_type": "markdown",
   "metadata": {},
   "source": [
    "# Step 1, Removing unwanted data from the scraped dataset\n",
    "\n",
    "### Some Columns are duplications or have null values. "
   ]
  },
  {
   "cell_type": "code",
   "execution_count": 7,
   "metadata": {},
   "outputs": [],
   "source": [
    "# Dropping the columns with NA's \n",
    "project_b.dropna(inplace=True)"
   ]
  },
  {
   "cell_type": "code",
   "execution_count": 8,
   "metadata": {},
   "outputs": [],
   "source": [
    "# Droping unneeded columns\n",
    "project_b.drop(labels=['price','available_for_checkin'],axis=1,inplace=True)"
   ]
  },
  {
   "cell_type": "code",
   "execution_count": 10,
   "metadata": {},
   "outputs": [],
   "source": [
    "# Dropping duplicate rows \n",
    "project_b.drop_duplicates(inplace=True)"
   ]
  },
  {
   "cell_type": "markdown",
   "metadata": {},
   "source": [
    "# Step 2 Renaming Columns in the scraped dataset \n",
    "\n",
    "### Important to rename features so they can be clearly understood "
   ]
  },
  {
   "cell_type": "code",
   "execution_count": 11,
   "metadata": {},
   "outputs": [],
   "source": [
    "# Adapting the list into a usable structer \n",
    "project_b.rename(columns={\"local_adjusted_price\": \"av_price\",'ID':'id','date':'date3',\n",
    "                          'available':'ave_availble','max_nights':'ave_max_nights',\n",
    "                          'min_nights':'ave_min_nights'},inplace=True)"
   ]
  },
  {
   "cell_type": "code",
   "execution_count": null,
   "metadata": {},
   "outputs": [],
   "source": []
  },
  {
   "cell_type": "markdown",
   "metadata": {},
   "source": [
    "# Step 3 Correcting data types\n",
    "\n",
    "### Through the scraping process some data may have been saved not in the correct format. This is to update this mistakes. "
   ]
  },
  {
   "cell_type": "code",
   "execution_count": 12,
   "metadata": {},
   "outputs": [],
   "source": [
    "project_b['date3'] = pd.to_datetime(project_b.date3)\n",
    "\n",
    "project_b['id']=project_b['id'].apply(str)"
   ]
  },
  {
   "cell_type": "markdown",
   "metadata": {},
   "source": [
    "# Step 4 Grouping the scraped data \n",
    "\n",
    "### Grouping the data always to get an average of when a listing is occupied."
   ]
  },
  {
   "cell_type": "code",
   "execution_count": 14,
   "metadata": {},
   "outputs": [],
   "source": [
    "# Grouping the df by \"id\" to get average values\n",
    "fgh=project_b.groupby('id').mean()\n",
    "\n",
    "\n",
    "# Project_A.index.name = None\n",
    "fgh.index.name = None"
   ]
  },
  {
   "cell_type": "markdown",
   "metadata": {},
   "source": [
    "# Step 5 Joining the original database and the scraped data\n",
    "\n",
    "### This then gives a master a database to preform investigation on. "
   ]
  },
  {
   "cell_type": "code",
   "execution_count": 15,
   "metadata": {},
   "outputs": [],
   "source": [
    "Project_B_Final=Project_A.join(fgh,how='left',)"
   ]
  },
  {
   "cell_type": "code",
   "execution_count": 16,
   "metadata": {
    "scrolled": true
   },
   "outputs": [
    {
     "data": {
      "text/html": [
       "<div>\n",
       "<style scoped>\n",
       "    .dataframe tbody tr th:only-of-type {\n",
       "        vertical-align: middle;\n",
       "    }\n",
       "\n",
       "    .dataframe tbody tr th {\n",
       "        vertical-align: top;\n",
       "    }\n",
       "\n",
       "    .dataframe thead th {\n",
       "        text-align: right;\n",
       "    }\n",
       "</style>\n",
       "<table border=\"1\" class=\"dataframe\">\n",
       "  <thead>\n",
       "    <tr style=\"text-align: right;\">\n",
       "      <th></th>\n",
       "      <th>Unnamed: 0</th>\n",
       "      <th>ave_availble</th>\n",
       "      <th>ave_max_nights</th>\n",
       "      <th>ave_min_nights</th>\n",
       "      <th>av_price</th>\n",
       "    </tr>\n",
       "  </thead>\n",
       "  <tbody>\n",
       "    <tr>\n",
       "      <th>147244</th>\n",
       "      <td>17.0</td>\n",
       "      <td>0.257143</td>\n",
       "      <td>1125.0</td>\n",
       "      <td>4.100000</td>\n",
       "      <td>154.871429</td>\n",
       "    </tr>\n",
       "    <tr>\n",
       "      <th>194664</th>\n",
       "      <td>17.0</td>\n",
       "      <td>0.157143</td>\n",
       "      <td>1125.0</td>\n",
       "      <td>4.385714</td>\n",
       "      <td>131.228571</td>\n",
       "    </tr>\n",
       "    <tr>\n",
       "      <th>207784</th>\n",
       "      <td>17.0</td>\n",
       "      <td>0.157143</td>\n",
       "      <td>1125.0</td>\n",
       "      <td>3.942857</td>\n",
       "      <td>147.400000</td>\n",
       "    </tr>\n",
       "  </tbody>\n",
       "</table>\n",
       "</div>"
      ],
      "text/plain": [
       "        Unnamed: 0  ave_availble  ave_max_nights  ave_min_nights    av_price\n",
       "147244        17.0      0.257143          1125.0        4.100000  154.871429\n",
       "194664        17.0      0.157143          1125.0        4.385714  131.228571\n",
       "207784        17.0      0.157143          1125.0        3.942857  147.400000"
      ]
     },
     "execution_count": 16,
     "metadata": {},
     "output_type": "execute_result"
    }
   ],
   "source": [
    "fgh.head(3)"
   ]
  },
  {
   "cell_type": "markdown",
   "metadata": {},
   "source": [
    "# Step 6 Saving the cleaned scraped database\n",
    "\n",
    "### This is just a precaution ahead of cleaning the new master database. "
   ]
  },
  {
   "cell_type": "code",
   "execution_count": 17,
   "metadata": {},
   "outputs": [],
   "source": [
    "today = now.strftime(\"%Y-%m-%d\")\n",
    "\n",
    "project_b.to_csv('project_b_Scrape_decemebr.csv')"
   ]
  },
  {
   "cell_type": "code",
   "execution_count": 19,
   "metadata": {
    "scrolled": false
   },
   "outputs": [
    {
     "data": {
      "text/html": [
       "<div>\n",
       "<style scoped>\n",
       "    .dataframe tbody tr th:only-of-type {\n",
       "        vertical-align: middle;\n",
       "    }\n",
       "\n",
       "    .dataframe tbody tr th {\n",
       "        vertical-align: top;\n",
       "    }\n",
       "\n",
       "    .dataframe thead th {\n",
       "        text-align: right;\n",
       "    }\n",
       "</style>\n",
       "<table border=\"1\" class=\"dataframe\">\n",
       "  <thead>\n",
       "    <tr style=\"text-align: right;\">\n",
       "      <th></th>\n",
       "      <th>Unnamed: 0</th>\n",
       "      <th>ave_availble</th>\n",
       "      <th>date3</th>\n",
       "      <th>ave_max_nights</th>\n",
       "      <th>ave_min_nights</th>\n",
       "      <th>id</th>\n",
       "      <th>av_price</th>\n",
       "      <th>type</th>\n",
       "      <th>date_scraped</th>\n",
       "    </tr>\n",
       "  </thead>\n",
       "  <tbody>\n",
       "    <tr>\n",
       "      <th>0</th>\n",
       "      <td>0</td>\n",
       "      <td>False</td>\n",
       "      <td>2018-10-01</td>\n",
       "      <td>1125</td>\n",
       "      <td>3</td>\n",
       "      <td>63864</td>\n",
       "      <td>128</td>\n",
       "      <td>custom</td>\n",
       "      <td>2018-12-10</td>\n",
       "    </tr>\n",
       "    <tr>\n",
       "      <th>1</th>\n",
       "      <td>1</td>\n",
       "      <td>False</td>\n",
       "      <td>2018-10-02</td>\n",
       "      <td>1125</td>\n",
       "      <td>3</td>\n",
       "      <td>63864</td>\n",
       "      <td>128</td>\n",
       "      <td>custom</td>\n",
       "      <td>2018-12-10</td>\n",
       "    </tr>\n",
       "    <tr>\n",
       "      <th>2</th>\n",
       "      <td>2</td>\n",
       "      <td>False</td>\n",
       "      <td>2018-10-03</td>\n",
       "      <td>1125</td>\n",
       "      <td>3</td>\n",
       "      <td>63864</td>\n",
       "      <td>128</td>\n",
       "      <td>custom</td>\n",
       "      <td>2018-12-10</td>\n",
       "    </tr>\n",
       "  </tbody>\n",
       "</table>\n",
       "</div>"
      ],
      "text/plain": [
       "   Unnamed: 0  ave_availble      date3  ave_max_nights  ave_min_nights     id  \\\n",
       "0           0         False 2018-10-01            1125               3  63864   \n",
       "1           1         False 2018-10-02            1125               3  63864   \n",
       "2           2         False 2018-10-03            1125               3  63864   \n",
       "\n",
       "   av_price    type date_scraped  \n",
       "0       128  custom   2018-12-10  \n",
       "1       128  custom   2018-12-10  \n",
       "2       128  custom   2018-12-10  "
      ]
     },
     "execution_count": 19,
     "metadata": {},
     "output_type": "execute_result"
    }
   ],
   "source": [
    "project_b.head(3)"
   ]
  },
  {
   "cell_type": "markdown",
   "metadata": {},
   "source": [
    "# Step 7 Clean the master database"
   ]
  },
  {
   "cell_type": "code",
   "execution_count": 20,
   "metadata": {},
   "outputs": [],
   "source": [
    "# Loading the master database\n",
    "Project_B_FinalV2=pd.read_csv(\"project_b_restructr.csv\")"
   ]
  },
  {
   "cell_type": "code",
   "execution_count": 21,
   "metadata": {},
   "outputs": [],
   "source": [
    "Project_B_FinalV2.rename(columns={'Unnamed: 0': \"id\"},inplace=True)"
   ]
  },
  {
   "cell_type": "code",
   "execution_count": 22,
   "metadata": {},
   "outputs": [],
   "source": [
    "#Project_B_FinalV2['acc_ave_month_occ'].mean()"
   ]
  },
  {
   "cell_type": "code",
   "execution_count": 23,
   "metadata": {},
   "outputs": [],
   "source": [
    "# Creating a column of just the average \n",
    "Project_B_FinalV2['average']=Project_B_FinalV2['acc_ave_month_occ'].mean()"
   ]
  },
  {
   "cell_type": "code",
   "execution_count": 24,
   "metadata": {},
   "outputs": [],
   "source": [
    "# Fixing so the occ pancy level of inside Airbnb doesnt go over 21 days (70%) per month\n",
    "Project_B_FinalV2.Insi_ave_month_occ[Project_B_FinalV2['Insi_ave_month_occ']>21]=21"
   ]
  },
  {
   "cell_type": "code",
   "execution_count": 25,
   "metadata": {},
   "outputs": [
    {
     "data": {
      "text/plain": [
       "(5280, 40)"
      ]
     },
     "execution_count": 25,
     "metadata": {},
     "output_type": "execute_result"
    }
   ],
   "source": [
    "# Checking the final database size \n",
    "Project_B_FinalV2.shape"
   ]
  },
  {
   "cell_type": "code",
   "execution_count": 26,
   "metadata": {},
   "outputs": [],
   "source": [
    "# unsure if I need this ....\n",
    "host_listings_count = 20\n",
    "maximum_nights =30\n",
    "instant_bookable = \"t\"\n",
    "\n",
    "# #Pb3\n",
    "# # Filtering by host listing counts\n",
    "mask_biz=Project_B_FinalV2.host_listings_count>host_listings_count\n",
    "listingv2=Project_B_FinalV2[mask_biz]\n",
    "\n",
    "# # listingv2.shape\n",
    "\n",
    "# # Filtering by maxiumum nights\n",
    "m2=listingv2.ave_max_nights>=maximum_nights\n",
    "listingv3=listingv2[m2]\n",
    "\n",
    "# ## This may need to be switched back after, below\n",
    "# # # Filtering by wether if its instant bookable\n",
    "# # m3=listingv3['instant_bookable']== instant_bookable \n",
    "# # Project_B_FinalV2=listingv3[m3]\n",
    "\n",
    "Project_B_FinalV2=listingv3"
   ]
  },
  {
   "cell_type": "markdown",
   "metadata": {},
   "source": [
    "# Step 8, Making the target catagorical\n",
    "\n",
    "### This is so when can try classification modeling if time is available "
   ]
  },
  {
   "cell_type": "code",
   "execution_count": 27,
   "metadata": {},
   "outputs": [],
   "source": [
    "# This categorizes the occpancy levels so classifacation can be tested \n",
    "Project_B_FinalV2['high_low']=pd.qcut(Project_B_FinalV2['acc_ave_month_occ'],215,\n",
    "                                      labels=None,retbins=False, duplicates='drop').astype(str)"
   ]
  },
  {
   "cell_type": "code",
   "execution_count": 28,
   "metadata": {},
   "outputs": [],
   "source": [
    "# taking out Inside Airbnb results for regression modeling, the average and the high_low \n",
    "# to see not effect the model. \n",
    "average=Project_B_FinalV2.pop('average')\n",
    "high_low=Project_B_FinalV2.pop('high_low')"
   ]
  },
  {
   "cell_type": "markdown",
   "metadata": {},
   "source": [
    "# Step 9, Dummifing the data, \n",
    "\n",
    "### This turns all catagorical data into binary "
   ]
  },
  {
   "cell_type": "code",
   "execution_count": 30,
   "metadata": {
    "scrolled": true
   },
   "outputs": [
    {
     "data": {
      "text/html": [
       "<div>\n",
       "<style scoped>\n",
       "    .dataframe tbody tr th:only-of-type {\n",
       "        vertical-align: middle;\n",
       "    }\n",
       "\n",
       "    .dataframe tbody tr th {\n",
       "        vertical-align: top;\n",
       "    }\n",
       "\n",
       "    .dataframe thead th {\n",
       "        text-align: right;\n",
       "    }\n",
       "</style>\n",
       "<table border=\"1\" class=\"dataframe\">\n",
       "  <thead>\n",
       "    <tr style=\"text-align: right;\">\n",
       "      <th></th>\n",
       "      <th>id</th>\n",
       "      <th>host_response_rate</th>\n",
       "      <th>host_listings_count</th>\n",
       "      <th>host_total_listings_count</th>\n",
       "      <th>accommodates</th>\n",
       "      <th>bathrooms</th>\n",
       "      <th>bedrooms</th>\n",
       "      <th>beds</th>\n",
       "      <th>guests_included</th>\n",
       "      <th>extra_people</th>\n",
       "      <th>...</th>\n",
       "      <th>review_scores_location_8.0</th>\n",
       "      <th>review_scores_location_9.0</th>\n",
       "      <th>review_scores_location_10.0</th>\n",
       "      <th>review_scores_value_4.0</th>\n",
       "      <th>review_scores_value_5.0</th>\n",
       "      <th>review_scores_value_6.0</th>\n",
       "      <th>review_scores_value_7.0</th>\n",
       "      <th>review_scores_value_8.0</th>\n",
       "      <th>review_scores_value_9.0</th>\n",
       "      <th>review_scores_value_10.0</th>\n",
       "    </tr>\n",
       "  </thead>\n",
       "  <tbody>\n",
       "    <tr>\n",
       "      <th>0</th>\n",
       "      <td>24903</td>\n",
       "      <td>100.0</td>\n",
       "      <td>53.0</td>\n",
       "      <td>53.0</td>\n",
       "      <td>5</td>\n",
       "      <td>2.0</td>\n",
       "      <td>2.0</td>\n",
       "      <td>2.0</td>\n",
       "      <td>3</td>\n",
       "      <td>20.0</td>\n",
       "      <td>...</td>\n",
       "      <td>0</td>\n",
       "      <td>0</td>\n",
       "      <td>0</td>\n",
       "      <td>0</td>\n",
       "      <td>0</td>\n",
       "      <td>0</td>\n",
       "      <td>1</td>\n",
       "      <td>0</td>\n",
       "      <td>0</td>\n",
       "      <td>0</td>\n",
       "    </tr>\n",
       "    <tr>\n",
       "      <th>6</th>\n",
       "      <td>63864</td>\n",
       "      <td>100.0</td>\n",
       "      <td>53.0</td>\n",
       "      <td>53.0</td>\n",
       "      <td>3</td>\n",
       "      <td>1.0</td>\n",
       "      <td>1.0</td>\n",
       "      <td>1.0</td>\n",
       "      <td>2</td>\n",
       "      <td>35.0</td>\n",
       "      <td>...</td>\n",
       "      <td>0</td>\n",
       "      <td>1</td>\n",
       "      <td>0</td>\n",
       "      <td>0</td>\n",
       "      <td>0</td>\n",
       "      <td>0</td>\n",
       "      <td>0</td>\n",
       "      <td>1</td>\n",
       "      <td>0</td>\n",
       "      <td>0</td>\n",
       "    </tr>\n",
       "    <tr>\n",
       "      <th>17</th>\n",
       "      <td>207784</td>\n",
       "      <td>100.0</td>\n",
       "      <td>53.0</td>\n",
       "      <td>53.0</td>\n",
       "      <td>5</td>\n",
       "      <td>2.0</td>\n",
       "      <td>2.0</td>\n",
       "      <td>2.0</td>\n",
       "      <td>3</td>\n",
       "      <td>20.0</td>\n",
       "      <td>...</td>\n",
       "      <td>0</td>\n",
       "      <td>1</td>\n",
       "      <td>0</td>\n",
       "      <td>0</td>\n",
       "      <td>0</td>\n",
       "      <td>0</td>\n",
       "      <td>0</td>\n",
       "      <td>0</td>\n",
       "      <td>1</td>\n",
       "      <td>0</td>\n",
       "    </tr>\n",
       "  </tbody>\n",
       "</table>\n",
       "<p>3 rows × 114 columns</p>\n",
       "</div>"
      ],
      "text/plain": [
       "        id  host_response_rate  host_listings_count  \\\n",
       "0    24903               100.0                 53.0   \n",
       "6    63864               100.0                 53.0   \n",
       "17  207784               100.0                 53.0   \n",
       "\n",
       "    host_total_listings_count  accommodates  bathrooms  bedrooms  beds  \\\n",
       "0                        53.0             5        2.0       2.0   2.0   \n",
       "6                        53.0             3        1.0       1.0   1.0   \n",
       "17                       53.0             5        2.0       2.0   2.0   \n",
       "\n",
       "    guests_included  extra_people            ...             \\\n",
       "0                 3          20.0            ...              \n",
       "6                 2          35.0            ...              \n",
       "17                3          20.0            ...              \n",
       "\n",
       "    review_scores_location_8.0  review_scores_location_9.0  \\\n",
       "0                            0                           0   \n",
       "6                            0                           1   \n",
       "17                           0                           1   \n",
       "\n",
       "    review_scores_location_10.0  review_scores_value_4.0  \\\n",
       "0                             0                        0   \n",
       "6                             0                        0   \n",
       "17                            0                        0   \n",
       "\n",
       "    review_scores_value_5.0  review_scores_value_6.0  review_scores_value_7.0  \\\n",
       "0                         0                        0                        1   \n",
       "6                         0                        0                        0   \n",
       "17                        0                        0                        0   \n",
       "\n",
       "    review_scores_value_8.0  review_scores_value_9.0  review_scores_value_10.0  \n",
       "0                         0                        0                         0  \n",
       "6                         1                        0                         0  \n",
       "17                        0                        1                         0  \n",
       "\n",
       "[3 rows x 114 columns]"
      ]
     },
     "execution_count": 30,
     "metadata": {},
     "output_type": "execute_result"
    }
   ],
   "source": [
    "# Dummifies all the objects\n",
    "Project_B_Dummied2=pd.get_dummies(Project_B_FinalV2,drop_first=True)\n",
    "\n",
    "#This is trying to dummify cataorgical columns)(that appear to be numerical)\n",
    "Project_B_Dummied3=pd.get_dummies(Project_B_Dummied2,drop_first=True,columns=['review_scores_accuracy',\n",
    "                                                                              'review_scores_cleanliness',\n",
    "                                                                              'review_scores_checkin',\n",
    "                                                                              'review_scores_communication',\n",
    "                                                                              'review_scores_location',\n",
    "                                                                              'review_scores_value'])\n",
    "\n",
    "Project_B_Dummied3.head(3)"
   ]
  },
  {
   "cell_type": "markdown",
   "metadata": {},
   "source": [
    "# Step 10,  Saving the final cleaned and dummified dataset"
   ]
  },
  {
   "cell_type": "code",
   "execution_count": 31,
   "metadata": {},
   "outputs": [
    {
     "data": {
      "text/plain": [
       "(1827, 114)"
      ]
     },
     "execution_count": 31,
     "metadata": {},
     "output_type": "execute_result"
    }
   ],
   "source": [
    "Project_B_Dummied3.shape"
   ]
  },
  {
   "cell_type": "code",
   "execution_count": 32,
   "metadata": {},
   "outputs": [],
   "source": [
    "Project_B_Dummied4=Project_B_Dummied3.copy()\n",
    "\n",
    "# Step 6a, Saving the dummified data\n",
    "today = now.strftime(\"%Y-%m-%d\")\n",
    "Project_B_Dummied4.to_csv('project_B2_dummied.csv')\n"
   ]
  }
 ],
 "metadata": {
  "kernelspec": {
   "display_name": "Python 3",
   "language": "python",
   "name": "python3"
  },
  "language_info": {
   "codemirror_mode": {
    "name": "ipython",
    "version": 3
   },
   "file_extension": ".py",
   "mimetype": "text/x-python",
   "name": "python",
   "nbconvert_exporter": "python",
   "pygments_lexer": "ipython3",
   "version": "3.6.5"
  }
 },
 "nbformat": 4,
 "nbformat_minor": 2
}
