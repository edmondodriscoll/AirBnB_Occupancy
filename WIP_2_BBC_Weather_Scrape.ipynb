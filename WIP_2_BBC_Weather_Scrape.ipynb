{
 "cells": [
  {
   "cell_type": "code",
   "execution_count": null,
   "metadata": {},
   "outputs": [],
   "source": [
    "r = requests.get(\"https://www.bbc.co.uk/weather/0/2643743\")\n",
    "soup = BeautifulSoup(r.text, 'html.parser')\n",
    "weather_types=[]\n",
    "weather_temps=[]\n",
    "# It is a 14 forecast starting from today, so today +13 days.\n",
    "lister=['0','1','2','3','4','5','6','7','8','9','10','11','12','13','14']\n",
    "for day in range(0, 14):  \n",
    "    weather_type = soup.find('li', attrs={'class':'wr-day','data-pos':lister[day]})('div', attrs={'class':'wr-weather-type__text'})[0].text\n",
    "    weather_temp= soup.find('li', attrs={'class':'wr-day','data-pos':lister[day]})('span', attrs={'class':\"wr-value--temperature--c\"})[0].text\n",
    "    weather_types.append(weather_type)\n",
    "    weather_temps.append(weather_temp)\n",
    "\n",
    "\n",
    "weather_typesdf =pd.DataFrame([weather_types],columns=['day_0_wty','day_1_wty','day_2_wty','day_3_wty','day_4_wty','day_5_wty','day_6_wty','day_7_wty','day_8_wty','day_9_wty','day_10_wty','day_11_wty','day_12_wty','day_13_wty'])\n",
    "weather_tempsdf =pd.DataFrame([weather_temps],columns=['day_0_wtp','day_1_wtp','day_2_wtp','day_3_wtp','day_4_wtp','day_5_wtp','day_6_wtp','day_7_wtp','day_8_wtp','day_9_wtp','day_10_wtp','day_11_wtp','day_12_wtp','day_13_wtp'])\n",
    "datetodaydf= pd.DataFrame([now.strftime(\"%Y-%m-%d\")],columns=['date_scrapedW'])\n",
    "\n",
    "d1=datetodaydf.join(weather_tempsdf)\n",
    "finalweatherdf=d1.join(weather_typesdf)\n",
    "\n",
    "\n",
    "master=pd.read_csv('master_weather.csv')\n",
    "\n",
    "updatedweatherdf=pd.concat([finalweatherdf,master])\n",
    "\n",
    "updatedweatherdf.to_csv('master_weather.csv')"
   ]
  }
 ],
 "metadata": {
  "kernelspec": {
   "display_name": "Python 3",
   "language": "python",
   "name": "python3"
  },
  "language_info": {
   "codemirror_mode": {
    "name": "ipython",
    "version": 3
   },
   "file_extension": ".py",
   "mimetype": "text/x-python",
   "name": "python",
   "nbconvert_exporter": "python",
   "pygments_lexer": "ipython3",
   "version": "3.6.5"
  }
 },
 "nbformat": 4,
 "nbformat_minor": 2
}
